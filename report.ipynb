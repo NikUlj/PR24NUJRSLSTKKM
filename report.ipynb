{
 "cells": [
  {
   "cell_type": "markdown",
   "metadata": {},
   "source": [
    "## Analiza letalskih nesreč\n",
    "\n",
    "**`Člani: Nik Uljarević, Jernej Rednak Stana, Leon Šturm, Tomaž Kerec, Kristjan Maroh`**\n",
    "\n",
    "Za projekt smo uporabili podatke o vseh letalskih nesrečah od leta 1918 do leta 2022, pridobljene iz https://www.kaggle.com/datasets/abeperez/historical-plane-crash-data.\n",
    "\n",
    "Podatki so v obliki CSV datoteke in za vsako nesrečo vsebujejo informacije, kot so datum, čas, kraj nesreče, število umrlih, vzrok nesreče itd.\n",
    "\n",
    "Na podlagi teh podatkov smo poskušali odgovoriti na naslednja vprašanja:\n",
    "\n",
    "### 1. Kako se število nesreč spreminja skozi čas?\n",
    "\n",
    "**ODGOVOR**\n",
    "\n",
    "### 2. Ali in kako faze, v katerih se je zgodila nesreča, in vrste letov (komercialni, vojaški itd.) vplivajo na odstotek oz. število umrlih potnikov?\n",
    "\n",
    "**ODGOVOR**\n",
    "\n",
    "### 3. Ali in kako kraj nesreče in število potnikov vplivata na število smrtnih žrtev med ljudmi, ki niso bili potniki?\n",
    "\n",
    "**ODGOVOR**\n",
    "\n",
    "### 4. Katera letala so najbolj nevarna?\n",
    "\n",
    "**ODGOVOR**\n",
    "\n",
    "### 5. Ali in kateri modeli letal ter vrste letov so bolj nagnjeni k določenim vrstam nesreč (tehnična okvara, človeška napaka itd.)?\n",
    "\n",
    "**ODGOVOR**\n",
    "\n",
    "### 6. Kako ura vpliva na nesreče, ali se bolj pogosto dogajajo ponoči?\n",
    "\n",
    "**ODGOVOR**\n",
    "\n",
    "### 7. Ali starost posameznega letala vpliva na možnost nesreče?\n",
    "\n",
    "**ODGOVOR**\n",
    "\n",
    "### 8. Ali so določeni operatorji ali države bolj nagnjeni k nesrečam, in če da, zakaj?\n",
    "\n",
    "**ODGOVOR**\n",
    "\n",
    "### 9. Ali imajo določeni kraji nesreče (ocean, letališče itd.) večjo možnost preživetja?\n",
    "\n",
    "**ODGOVOR**\n",
    "\n",
    "### 10. Ali ima posadka večjo možnost preživetja kot običajni potniki na komercialnih letalih?\n",
    "\n",
    "**ODGOVOR**"
   ]
  }
 ],
 "metadata": {
  "language_info": {
   "name": "python"
  }
 },
 "nbformat": 4,
 "nbformat_minor": 2
}
